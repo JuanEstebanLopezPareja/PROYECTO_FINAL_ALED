{
 "cells": [
  {
   "cell_type": "markdown",
   "metadata": {},
   "source": [
    "# Notas Adicionales\n",
    "En este documento va todo el codigo suplementario o adicional  que no es escencial para el proyecto pero que puede ser util para los integrantes\n"
   ]
  }
 ],
 "metadata": {
  "language_info": {
   "name": "python"
  }
 },
 "nbformat": 4,
 "nbformat_minor": 2
}
