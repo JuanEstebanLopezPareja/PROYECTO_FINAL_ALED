{
 "cells": [
  {
   "cell_type": "markdown",
   "metadata": {},
   "source": [
    "# Proyecto Final (Algebra lineal y Ecuaciones diferenciales)\n",
    "Autores:\n",
    "- Juliana Estrada\n",
    "- Antonia Ramón Jaramillo\n",
    "- Juan Esteban López Pareja\n",
    "## Contexto\n",
    "Este archivo contiene todo el codigo utilizado para realizar el proyecto final de la clase de *Algebra lineal y Ecuaciones Diferenciales* en forma de un archivo *.ipynb*, es decir un Jupyter Notebook.\n",
    "El codigo corre en Python --verision-- ***\n",
    "\n",
    "Este archivo *SOLO* contiene el codigo y explicaciones necesarias para entenderlo e implementarlo y no constituye la entrega final, ésta se encuentra en {hipervinculo} o en el archivo subido a E-aulas."
   ]
  },
  {
   "cell_type": "code",
   "execution_count": 1,
   "metadata": {},
   "outputs": [
    {
     "name": "stdout",
     "output_type": "stream",
     "text": [
      "hola\n"
     ]
    }
   ],
   "source": [
    "print(\"hola\")"
   ]
  }
 ],
 "metadata": {
  "kernelspec": {
   "display_name": "Python 3",
   "language": "python",
   "name": "python3"
  },
  "language_info": {
   "codemirror_mode": {
    "name": "ipython",
    "version": 3
   },
   "file_extension": ".py",
   "mimetype": "text/x-python",
   "name": "python",
   "nbconvert_exporter": "python",
   "pygments_lexer": "ipython3",
   "version": "3.11.9"
  }
 },
 "nbformat": 4,
 "nbformat_minor": 2
}
